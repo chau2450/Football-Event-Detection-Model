version https://git-lfs.github.com/spec/v1
oid sha256:2386f1fe68fb7ce01c1b6a337e6e12c46d88603090858903bf808ceb1dc0d86e
size 676602
