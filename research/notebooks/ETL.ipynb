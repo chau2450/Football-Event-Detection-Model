version https://git-lfs.github.com/spec/v1
oid sha256:7944a5a3109997b0229781cdfbf2ae8d8704d0ed22371affe6919e668979ad74
size 1449
