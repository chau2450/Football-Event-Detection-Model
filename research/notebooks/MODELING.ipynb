version https://git-lfs.github.com/spec/v1
oid sha256:7f06ac6af23d89072e12436724d7c1236e638747068f111f4947d6c0e2f4672b
size 16502908
